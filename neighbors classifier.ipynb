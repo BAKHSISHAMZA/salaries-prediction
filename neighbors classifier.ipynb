{
 "cells": [
  {
   "cell_type": "code",
   "execution_count": null,
   "metadata": {},
   "outputs": [],
   "source": [
    "from sklearn.neighbors import KNeighborsClassifier\n",
    "knn = KNeighborsClassifier(n_neighbors=5,metric='minkowski',p=2)\n",
    "knn.fit(x_train,y_train)\n",
    "k = []\n",
    "accuracy = []\n",
    "for i in range(3, 15):\n",
    "    # Initialize the KNN model with i neighbors\n",
    "    knn_2 = KNeighborsClassifier(n_neighbors=i, metric='minkowski', p=2)\n",
    "    # Fit the model on the training data\n",
    "    knn_2.fit(x_train, y_train)\n",
    "    # Predict the training data labels\n",
    "    y_pred = knn_2.predict(x_train)\n",
    "    # Append the number of neighbors to k list\n",
    "    k.append(i)\n",
    "    # Calculate and append the accuracy to accuracy list\n",
    "    accuracy.append(accuracy_score(y_train, y_pred))\n",
    "\n",
    "# Plotting the accuracy vs. number of neighbors\n",
    "plt.plot(k, accuracy)\n",
    "plt.xlabel('Number of Neighbors')\n",
    "plt.ylabel('Accuracy')\n",
    "plt.title('Accuracy vs. Number of Neighbors')\n",
    "plt.show()\n",
    "k_accu = tuple(zip(k,accuracy))\n",
    "df_k_accu = pd.DataFrame(k_accu,columns = ['k','accuracy'])\n",
    "df_k_accu[df_k_accu.accuracy==max(df_k_accu.accuracy)]"
   ]
  }
 ],
 "metadata": {
  "kernelspec": {
   "display_name": "Python 3",
   "language": "python",
   "name": "python3"
  },
  "language_info": {
   "name": "python",
   "version": "3.10.0"
  }
 },
 "nbformat": 4,
 "nbformat_minor": 2
}
